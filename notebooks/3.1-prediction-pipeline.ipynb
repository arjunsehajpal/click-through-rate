{
 "cells": [
  {
   "cell_type": "markdown",
   "metadata": {},
   "source": [
    "This notebook creates a ``data_preprocessor`` class which converts the new incoming logs to the format that is acceptable by our machine learning model. The following are the operations that will be performed on the incoming data:-\n",
    "1. Converting the date columns to datetime format\n",
    "2. Calculate mean ``impression_time`` for a particular user\n",
    "3. Encode ``os_version``\n",
    "4. Count unique apps used by the user\n",
    "5. Extract hour and minute from ``impression_time``\n",
    "6. Count unique user for an app\n",
    "7. Calculating the counts of ``user_id`` and ``app_code``\n",
    "8. Checking how many times user has clicked the ad and what was the last time he had an impression\n",
    "9. Checking how many times user has clicked the ad from  A PARTICULAR APP and what was the last time he had an impression\n",
    "10. In `view_aggdf`, encode the device type\n",
    "11. merge `view_aggdf` and `train_df`"
   ]
  },
  {
   "cell_type": "code",
   "execution_count": null,
   "metadata": {},
   "outputs": [],
   "source": []
  }
 ],
 "metadata": {
  "kernelspec": {
   "display_name": "Python 3",
   "language": "python",
   "name": "python3"
  },
  "language_info": {
   "codemirror_mode": {
    "name": "ipython",
    "version": 3
   },
   "file_extension": ".py",
   "mimetype": "text/x-python",
   "name": "python",
   "nbconvert_exporter": "python",
   "pygments_lexer": "ipython3",
   "version": "3.6.8"
  }
 },
 "nbformat": 4,
 "nbformat_minor": 4
}
